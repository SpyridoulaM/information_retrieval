{
  "metadata": {
    "kernelspec": {
      "name": "python",
      "display_name": "Python (Pyodide)",
      "language": "python"
    },
    "language_info": {
      "codemirror_mode": {
        "name": "python",
        "version": 3
      },
      "file_extension": ".py",
      "mimetype": "text/x-python",
      "name": "python",
      "nbconvert_exporter": "python",
      "pygments_lexer": "ipython3",
      "version": "3.8"
    }
  },
  "nbformat_minor": 5,
  "nbformat": 4,
  "cells": [
    {
      "id": "3623a07f-b6b9-4926-8553-3e93d7a2c6f0",
      "cell_type": "markdown",
      "source": "Βήμα 1. Συλλογή δεδομένων:",
      "metadata": {}
    },
    {
      "id": "bd448e6c-ad46-4bf6-9057-e93defa71cab",
      "cell_type": "markdown",
      "source": "Η συλλογή των δεδομένων έγινε από το kaggle στην διεύθυνση https://www.kaggle.com/datasets/jrobischon/wikipedia-movie-plots/data και η συλλογή περιέχει στοιχεία και υποθέσεις ταινιών.\nΚατεβάζουμε τις απαραίτητες βιβλιοθήκες και περιορίζουμε το μέγεθος του dataset στις πρώτες 1000 εγγραφές λόγω περιορισμένων υπολογιστικών πόρων.",
      "metadata": {}
    },
    {
      "id": "7dd3b56b-dbfa-4f85-85ff-970a52d94aa9",
      "cell_type": "code",
      "source": "import pandas as pd\nimport nltk\nfrom nltk.stem import PorterStemmer\nfrom nltk.tokenize import word_tokenize\nfrom collections import defaultdict\nimport json\nimport string\nfrom sklearn.feature_extraction.text import TfidfVectorizer\nfrom sklearn.metrics.pairwise import cosine_similarity\nfrom sklearn.metrics import precision_score, recall_score, f1_score, average_precision_score\nfrom rank_bm25 import BM25Okapi\n\nnltk.download('stopwords')\nnltk.download('punkt')\n\n# Φόρτωση των δεδομένων\ndata = pd.read_csv('wiki_movie_plots_deduped.csv')\ndata = data.head(1000)",
      "metadata": {
        "trusted": true
      },
      "outputs": [],
      "execution_count": null
    },
    {
      "id": "98e77faa-3486-48fa-b94f-9fb06be9016a",
      "cell_type": "markdown",
      "source": "Βήμα 2. Προεπεξεργασία κειμένου (Text Processing):\nΓίνεται διαγραφή των εγγραφών των οποίων είναι άδειο το plot, αφαιρούνται τα stopwords και εφαρμόζεται επεξεργασία stemming.",
      "metadata": {}
    },
    {
      "id": "09e7eb00-afc8-4831-becb-00448498c387",
      "cell_type": "code",
      "source": "stemmer = PorterStemmer()\n\n# Διαγραφή των εγγραφων οι οποίες έχουν άδειο το κομμάτι plot\ndata = data.dropna(subset=['Plot'])\n\n# Αποθήκευση του καθαρισμένου αρχείου\ndata.to_csv('cleaned_movies_dataset.csv', index=False)\n\n# Καθορισμός των stopwords\nstopwords = nltk.corpus.stopwords.words(\"english\")\n\n# Λειτουργία προετοιμασίας κειμένου με Stemming\ndef preprocess_text_with_stemming(text):\n    # Αφαίρεση ειδικών χαρακτήρων\n    text = ''.join([char for char in text if char not in string.punctuation])\n    # Μετατροπή σε μικρά και tokenization\n    text = text.lower()\n    tokens = nltk.word_tokenize(text)\n    # Αφαίρεση stopwords\n    tokens = [token for token in tokens if token not in stopwords]\n    # Stemming\n    tokens = [stemmer.stem(token) for token in tokens]\n    # Αφαίρεση πολλαπλών κενών\n    text = \" \".join(tokens)\n    return text\n\ndata['Processed_Plot'] = data['Plot'].apply(preprocess_text_with_stemming)\n\n# Αποθήκευση του καθαρισμένου dataset\ndata.to_csv('preprocessed_movies_dataset_with_stemming.csv', index=False)",
      "metadata": {
        "trusted": true
      },
      "outputs": [],
      "execution_count": null
    },
    {
      "id": "dcf735c1-bc29-4a4d-8205-dc73e9a0cc1b",
      "cell_type": "markdown",
      "source": "Βήμα 3. Ευρετήριο (Indexing):\nΧρησιμοποιούμε το inverted index για να συνδέσουμε τις λέξεις με τα έγγραφα στα οποία εμφανίζονται",
      "metadata": {}
    },
    {
      "id": "62025d0d-4d8f-4124-a145-8d1865fd2577",
      "cell_type": "code",
      "source": "# Δημιουργία δομής ανεστραμμένου ευρετηρίου\ninverted_index = defaultdict(list)\n\n# Κατασκευή του ευρετηρίου\nfor idx, row in data.iterrows(): \n    doc_id = idx # Το ID του εγγράφου (μπορεί να είναι η γραμμή)\n    words = row['Processed_Plot'].split() # Διάσπαση κειμένου σε λέξεις\n    for word in words:\n        if doc_id not in inverted_index[word]: # Αποφυγή διπλών εγγραφών\n            inverted_index[word].append(doc_id)\n\n# Εγγραφή του ευρετηρίου σε αρχείο\nwith open('inverted_index.json', 'w') as f:\n    json.dump(inverted_index, f)\n# Φόρτωση του ευρετηρίου σε αρχείο\nwith open('inverted_index.json', 'r') as f:\n    inverted_index = json.load(f)",
      "metadata": {
        "trusted": true
      },
      "outputs": [],
      "execution_count": null
    },
    {
      "id": "b8b53058-e442-478f-b487-b9844e31032e",
      "cell_type": "markdown",
      "source": "Βήμα 4. Μηχανή αναζήτησης (Search Engine)",
      "metadata": {}
    },
    {
      "id": "ceb7cdc6-1685-4822-9214-9d4a100e6b12",
      "cell_type": "markdown",
      "source": "α) Επεξεργασία ερωτήματος (Query Processing):\nΗ συνάρτηση boolean_search επεξεργάζεται τις λέξεις μέσω stemming,\nτο οποίο σημαίνει ότι κάθε λέξη μετατρέπεται στην ρίζα της (lemma) για να \nμειωθεί η πολυπλοκότητα της γλώσσας και να βελτιωθεί η αναζήτηση. Στη συνέχεια, \nαναγνωρίζει και εφαρμόζει λογικούς τελεστές Boolean όπως AND, OR και NOT για να εντοπίσει \nτα σχετικά έγγραφα στον αναστραμμένο ευρετήριο (inverted index). Το αποτέλεσμα είναι \nτο σύνολο των εγγράφων που ικανοποιούν το ερώτημα αναζήτησης.",
      "metadata": {}
    },
    {
      "id": "45cd1d4e-2639-455c-8a4a-2e238b5d5ffc",
      "cell_type": "code",
      "source": "def boolean_search(query, inverted_index):\n    # Καθαρισμός και tokenization του ερωτήματος\n    query = query.lower() # Μετατροπή σε μικρά γράμματα\n    tokens = word_tokenize(query) # Tokenization\n    tokens = [token for token in tokens if token not in stopwords]\n    # Stemming σε κάθε λέξη\n    stemmed_tokens = [stemmer.stem(token) for token in tokens]\n    \n    result_set = set()\n    # Αναζήτηση για AND, OR, NOT\n    if \"and\" in stemmed_tokens:\n        terms = [term for term in stemmed_tokens if term != \"and\"]\n        result_set = set(inverted_index.get(terms[0], []))\n        for term in terms[1:]:\n            result_set &= set(inverted_index.get(term, []))\n    elif \"or\" in stemmed_tokens:\n        terms = [term for term in stemmed_tokens if term != \"or\"]\n        for term in terms:\n            result_set |= set(inverted_index.get(term, []))\n    elif \"not\" in stemmed_tokens:\n        terms = [term for term in stemmed_tokens if term != \"not\"]\n        result_set = set(inverted_index.keys()) - set(inverted_index.get(terms[0], []))\n    else:\n        result_set = set(inverted_index.get(stemmed_tokens[0], [])) # Απλή αναζήτηση\n\n    return result_set",
      "metadata": {
        "trusted": true
      },
      "outputs": [],
      "execution_count": null
    },
    {
      "id": "a829014c-588f-4382-809b-c7cdb0a6f82b",
      "cell_type": "markdown",
      "source": "β) Κατάταξη αποτελεσμάτων (Ranking):",
      "metadata": {}
    },
    {
      "id": "3284b0d6-1f85-446e-81b9-bdecbe36521e",
      "cell_type": "code",
      "source": "",
      "metadata": {
        "trusted": true
      },
      "outputs": [],
      "execution_count": null
    },
    {
      "id": "1bf38eec-2fc9-403b-ab9b-ccb968d63500",
      "cell_type": "markdown",
      "source": "Βήμα 5. Αξιολόγηση συστήματος:",
      "metadata": {}
    }
  ]
}